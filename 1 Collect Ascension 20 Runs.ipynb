{
 "cells": [
  {
   "cell_type": "markdown",
   "metadata": {},
   "source": [
    "# Load Libraries"
   ]
  },
  {
   "cell_type": "code",
   "execution_count": 1,
   "metadata": {
    "ExecuteTime": {
     "end_time": "2021-11-06T07:59:31.450429Z",
     "start_time": "2021-11-06T07:59:28.549884Z"
    }
   },
   "outputs": [],
   "source": [
    "import glob\n",
    "import os\n",
    "import json\n",
    "import numpy as np\n",
    "import pandas as pd\n",
    "import matplotlib.pyplot as plt\n",
    "import seaborn as sns"
   ]
  },
  {
   "cell_type": "code",
   "execution_count": 2,
   "metadata": {
    "ExecuteTime": {
     "end_time": "2021-11-06T07:59:31.463907Z",
     "start_time": "2021-11-06T07:59:31.460376Z"
    }
   },
   "outputs": [],
   "source": [
    "# display all columns\n",
    "pd.options.display.max_columns = None\n"
   ]
  },
  {
   "cell_type": "markdown",
   "metadata": {},
   "source": [
    "# Get Multiple Json Files"
   ]
  },
  {
   "cell_type": "code",
   "execution_count": 3,
   "metadata": {
    "ExecuteTime": {
     "end_time": "2021-11-06T07:59:32.589047Z",
     "start_time": "2021-11-06T07:59:32.251846Z"
    }
   },
   "outputs": [],
   "source": [
    "# get lists of multiple json files\n",
    "path = \".\\data_gzip\" # get files in the folder\n",
    "json_files = glob.glob(os.path.join(path, \"*.json\")) #make list of paths"
   ]
  },
  {
   "cell_type": "code",
   "execution_count": 4,
   "metadata": {
    "ExecuteTime": {
     "end_time": "2021-11-06T07:59:45.129625Z",
     "start_time": "2021-11-06T07:59:45.122643Z"
    }
   },
   "outputs": [
    {
     "data": {
      "text/plain": [
       "['.\\\\data_gzip\\\\2020-11-01-00-07#1067.json',\n",
       " '.\\\\data_gzip\\\\2020-11-01-00-17#1152.json',\n",
       " '.\\\\data_gzip\\\\2020-11-01-00-27#1120.json',\n",
       " '.\\\\data_gzip\\\\2020-11-01-00-37#1158.json',\n",
       " '.\\\\data_gzip\\\\2020-11-01-00-47#1174.json',\n",
       " '.\\\\data_gzip\\\\2020-11-01-00-57#1156.json',\n",
       " '.\\\\data_gzip\\\\2020-11-01-01-07#1180.json',\n",
       " '.\\\\data_gzip\\\\2020-11-01-01-17#1118.json',\n",
       " '.\\\\data_gzip\\\\2020-11-01-01-28#1202.json',\n",
       " '.\\\\data_gzip\\\\2020-11-01-01-38#1181.json']"
      ]
     },
     "execution_count": 4,
     "metadata": {},
     "output_type": "execute_result"
    }
   ],
   "source": [
    "# see first 10 files\n",
    "json_files[:10]"
   ]
  },
  {
   "cell_type": "markdown",
   "metadata": {},
   "source": [
    "# Count and Filter Multiple A20 Runs for Each Json Files"
   ]
  },
  {
   "cell_type": "code",
   "execution_count": 5,
   "metadata": {
    "ExecuteTime": {
     "end_time": "2021-11-06T08:46:38.067394Z",
     "start_time": "2021-11-06T08:01:07.511086Z"
    }
   },
   "outputs": [
    {
     "name": "stdout",
     "output_type": "stream",
     "text": [
      "1585/1585\r"
     ]
    }
   ],
   "source": [
    "# combine multiple json files into one data frame\n",
    "prep_data = pd.DataFrame()\n",
    "data_cnt = 0\n",
    "\n",
    "a20_cnt = 0\n",
    "a20_win =0\n",
    "\n",
    "a0_cnt = 0\n",
    "a0_win =0\n",
    "\n",
    "a20_cnt_char = dict()\n",
    "a20_win_char = dict()\n",
    "\n",
    "a0_cnt_char = dict()\n",
    "a0_win_char = dict()\n",
    "\n",
    "\n",
    "cnt = 0\n",
    "tot_cnt = len(json_files)\n",
    "\n",
    "\n",
    "for file in json_files:\n",
    "    # get counts of all attempts (all runs)\n",
    "    data = pd.read_json(file)\n",
    "    data_cnt = data_cnt + data.shape[0]\n",
    "    cnt = cnt + 1\n",
    "    \n",
    "    data = pd.json_normalize(data.event)\n",
    "    \n",
    "    # get Ascension 0 runs atempts\n",
    "    lvl = 0\n",
    "    data0 = data[data.ascension_level == lvl].reset_index(drop = True)\n",
    "    a0_cnt = a0_cnt + data0.shape[0]\n",
    "    for i in data0['character_chosen'].tolist():\n",
    "        a0_cnt_char[i] = a0_cnt_char.get(i, 0) + 1\n",
    "\n",
    "    # get victorious on heart runs\n",
    "    data0 = data0[data0.victory == True]\n",
    "    data0 = data0[data0.floor_reached >= 55].reset_index(drop = True)\n",
    "    a0_win = a0_win + data0.shape[0]\n",
    "    for i in data0['character_chosen'].tolist():\n",
    "        a0_win_char[i] = a0_win_char.get(i, 0) + 1\n",
    "    \n",
    "    \n",
    "    # get Ascension 20 runs atempts\n",
    "    lvl = 20\n",
    "    data = data[data.ascension_level >= lvl].reset_index(drop = True)\n",
    "    a20_cnt = a20_cnt + data.shape[0]\n",
    "    for i in data['character_chosen'].tolist():\n",
    "        a20_cnt_char[i] = a20_cnt_char.get(i, 0) + 1\n",
    "    \n",
    "    # get victorious on heart runs\n",
    "    data = data[data.victory == True]\n",
    "    data = data[data.floor_reached >= 55].reset_index(drop = True)\n",
    "    a20_win = a20_win + data.shape[0]\n",
    "    for i in data['character_chosen'].tolist():\n",
    "        a20_win_char[i] = a20_win_char.get(i, 0) + 1\n",
    "    \n",
    "    prep_data = prep_data.append(data, ignore_index = True)\n",
    "    print(str(cnt) + \"/\" + str(tot_cnt), sep = ' ', end = '\\r', flush = True) # print dynamically\n",
    "    "
   ]
  },
  {
   "cell_type": "markdown",
   "metadata": {},
   "source": [
    "# Preview of Json Files while Running"
   ]
  },
  {
   "cell_type": "code",
   "execution_count": 6,
   "metadata": {
    "ExecuteTime": {
     "end_time": "2021-11-06T08:46:39.503141Z",
     "start_time": "2021-11-06T08:46:39.033091Z"
    }
   },
   "outputs": [
    {
     "data": {
      "text/html": [
       "<div>\n",
       "<style scoped>\n",
       "    .dataframe tbody tr th:only-of-type {\n",
       "        vertical-align: middle;\n",
       "    }\n",
       "\n",
       "    .dataframe tbody tr th {\n",
       "        vertical-align: top;\n",
       "    }\n",
       "\n",
       "    .dataframe thead th {\n",
       "        text-align: right;\n",
       "    }\n",
       "</style>\n",
       "<table border=\"1\" class=\"dataframe\">\n",
       "  <thead>\n",
       "    <tr style=\"text-align: right;\">\n",
       "      <th></th>\n",
       "      <th>gold_per_floor</th>\n",
       "      <th>floor_reached</th>\n",
       "      <th>playtime</th>\n",
       "      <th>items_purged</th>\n",
       "      <th>score</th>\n",
       "      <th>play_id</th>\n",
       "      <th>local_time</th>\n",
       "      <th>is_ascension_mode</th>\n",
       "      <th>campfire_choices</th>\n",
       "      <th>neow_cost</th>\n",
       "      <th>seed_source_timestamp</th>\n",
       "      <th>circlet_count</th>\n",
       "      <th>master_deck</th>\n",
       "      <th>relics</th>\n",
       "      <th>potions_floor_usage</th>\n",
       "      <th>damage_taken</th>\n",
       "      <th>seed_played</th>\n",
       "      <th>potions_obtained</th>\n",
       "      <th>is_trial</th>\n",
       "      <th>path_per_floor</th>\n",
       "      <th>character_chosen</th>\n",
       "      <th>items_purchased</th>\n",
       "      <th>campfire_rested</th>\n",
       "      <th>item_purchase_floors</th>\n",
       "      <th>current_hp_per_floor</th>\n",
       "      <th>gold</th>\n",
       "      <th>neow_bonus</th>\n",
       "      <th>is_prod</th>\n",
       "      <th>is_daily</th>\n",
       "      <th>chose_seed</th>\n",
       "      <th>campfire_upgraded</th>\n",
       "      <th>win_rate</th>\n",
       "      <th>timestamp</th>\n",
       "      <th>path_taken</th>\n",
       "      <th>build_version</th>\n",
       "      <th>purchased_purges</th>\n",
       "      <th>victory</th>\n",
       "      <th>max_hp_per_floor</th>\n",
       "      <th>card_choices</th>\n",
       "      <th>player_experience</th>\n",
       "      <th>relics_obtained</th>\n",
       "      <th>event_choices</th>\n",
       "      <th>is_beta</th>\n",
       "      <th>boss_relics</th>\n",
       "      <th>items_purged_floors</th>\n",
       "      <th>is_endless</th>\n",
       "      <th>potions_floor_spawned</th>\n",
       "      <th>killed_by</th>\n",
       "      <th>ascension_level</th>\n",
       "      <th>special_seed</th>\n",
       "    </tr>\n",
       "  </thead>\n",
       "  <tbody>\n",
       "    <tr>\n",
       "      <th>0</th>\n",
       "      <td>[116, 128, 128, 145, 164, 164, 199, 36, 60, 77...</td>\n",
       "      <td>57</td>\n",
       "      <td>3592</td>\n",
       "      <td>[Strike_B, Fusion]</td>\n",
       "      <td>3387</td>\n",
       "      <td>f0e5a910-179f-4b2c-8faa-36c4b18dc596</td>\n",
       "      <td>20201101075911</td>\n",
       "      <td>True</td>\n",
       "      <td>[{'data': 'Doom and Gloom', 'floor': 6.0, 'key...</td>\n",
       "      <td>NONE</td>\n",
       "      <td>0</td>\n",
       "      <td>0.0</td>\n",
       "      <td>[AscendersBane, Defend_B, Defend_B, Defend_B, ...</td>\n",
       "      <td>[Snecko Eye, Boot, MealTicket, Dream Catcher, ...</td>\n",
       "      <td>[]</td>\n",
       "      <td>[{'damage': 8.0, 'enemies': '2 Louse', 'floor'...</td>\n",
       "      <td>8817479027442936069</td>\n",
       "      <td>[{'floor': 1.0, 'key': 'SneckoOil'}, {'floor':...</td>\n",
       "      <td>False</td>\n",
       "      <td>[M, M, ?, M, M, R, E, $, T, M, ?, R, E, M, R, ...</td>\n",
       "      <td>DEFECT</td>\n",
       "      <td>[Loop, ClockworkSouvenir, Self Repair, Meteor ...</td>\n",
       "      <td>1</td>\n",
       "      <td>[8, 22, 22, 30, 54, 54]</td>\n",
       "      <td>[56, 55, 55, 55, 50, 50, 25, 25, 25, 11, 11, 3...</td>\n",
       "      <td>112</td>\n",
       "      <td>BOSS_RELIC</td>\n",
       "      <td>False</td>\n",
       "      <td>False</td>\n",
       "      <td>False</td>\n",
       "      <td>6</td>\n",
       "      <td>0.0</td>\n",
       "      <td>1604188751</td>\n",
       "      <td>[M, M, ?, ?, M, R, E, $, T, M, ?, R, E, M, R, ...</td>\n",
       "      <td>2020-07-30</td>\n",
       "      <td>2</td>\n",
       "      <td>True</td>\n",
       "      <td>[71, 71, 71, 71, 71, 71, 71, 71, 71, 71, 71, 7...</td>\n",
       "      <td>[{'not_picked': ['Steam Power', 'Tempest', 'Go...</td>\n",
       "      <td>1711065</td>\n",
       "      <td>[{'floor': 7.0, 'key': 'Boot'}, {'floor': 9.0,...</td>\n",
       "      <td>[{'damage_healed': 0.0, 'max_hp_gain': 0.0, 'm...</td>\n",
       "      <td>False</td>\n",
       "      <td>[{'not_picked': ['Busted Crown', 'Astrolabe'],...</td>\n",
       "      <td>[8, 54]</td>\n",
       "      <td>False</td>\n",
       "      <td>[1, 5, 7, 16, 18, 20, 29, 35, 42, 48, 55]</td>\n",
       "      <td>NaN</td>\n",
       "      <td>20</td>\n",
       "      <td>0.0</td>\n",
       "    </tr>\n",
       "    <tr>\n",
       "      <th>1</th>\n",
       "      <td>[110, 57, 76, 88, 48, 48, 73, 22, 22, 22, 34, ...</td>\n",
       "      <td>57</td>\n",
       "      <td>2499</td>\n",
       "      <td>[Strike_B+1, Strike_B+1]</td>\n",
       "      <td>2856</td>\n",
       "      <td>e7965be2-e720-4f70-a41f-1e102caae779</td>\n",
       "      <td>20201031190308</td>\n",
       "      <td>True</td>\n",
       "      <td>[{'data': 'Sweeping Beam', 'floor': 6.0, 'key'...</td>\n",
       "      <td>NONE</td>\n",
       "      <td>0</td>\n",
       "      <td>0.0</td>\n",
       "      <td>[AscendersBane, Strike_B+1, Defend_B+1, Defend...</td>\n",
       "      <td>[Calling Bell, Bag of Preparation, Cables, Win...</td>\n",
       "      <td>[56, 56, 56, 56, 56, 56, 56, 56]</td>\n",
       "      <td>[{'damage': 4.0, 'enemies': 'Jaw Worm', 'floor...</td>\n",
       "      <td>-7915356058747897097</td>\n",
       "      <td>[{'floor': 1.0, 'key': 'DuplicationPotion'}, {...</td>\n",
       "      <td>False</td>\n",
       "      <td>[M, ?, M, M, M, R, E, $, T, ?, M, E, E, M, R, ...</td>\n",
       "      <td>DEFECT</td>\n",
       "      <td>[Coolheaded, OrangePellets, PreservedInsect, R...</td>\n",
       "      <td>4</td>\n",
       "      <td>[8, 37, 37, 48, 48, 48, 48, 48, 48, 48, 54]</td>\n",
       "      <td>[60, 60, 60, 57, 35, 35, 23, 23, 23, 71, 69, 5...</td>\n",
       "      <td>57</td>\n",
       "      <td>BOSS_RELIC</td>\n",
       "      <td>False</td>\n",
       "      <td>False</td>\n",
       "      <td>False</td>\n",
       "      <td>4</td>\n",
       "      <td>0.0</td>\n",
       "      <td>1604188988</td>\n",
       "      <td>[M, ?, M, M, ?, R, E, ?, T, ?, ?, E, E, ?, R, ...</td>\n",
       "      <td>2020-07-30</td>\n",
       "      <td>2</td>\n",
       "      <td>True</td>\n",
       "      <td>[71, 71, 71, 71, 71, 71, 71, 71, 71, 71, 73, 7...</td>\n",
       "      <td>[{'not_picked': ['Leap', 'Redo'], 'picked': 'S...</td>\n",
       "      <td>583140</td>\n",
       "      <td>[{'floor': 0.0, 'key': 'Bag of Preparation'}, ...</td>\n",
       "      <td>[{'damage_healed': 0.0, 'max_hp_gain': 0.0, 'm...</td>\n",
       "      <td>True</td>\n",
       "      <td>[{'not_picked': ['Sozu', 'SlaversCollar'], 'pi...</td>\n",
       "      <td>[37, 48]</td>\n",
       "      <td>False</td>\n",
       "      <td>[1, 3, 11, 18, 21, 24, 27, 33, 35, 36, 44]</td>\n",
       "      <td>NaN</td>\n",
       "      <td>20</td>\n",
       "      <td>0.0</td>\n",
       "    </tr>\n",
       "    <tr>\n",
       "      <th>2</th>\n",
       "      <td>[119, 129, 129, 149, 161, 161, 190, 210, 262, ...</td>\n",
       "      <td>57</td>\n",
       "      <td>6662</td>\n",
       "      <td>[Strike_B, Strike_B+1]</td>\n",
       "      <td>2702</td>\n",
       "      <td>bc717009-43e1-4177-98b9-dd41fe283145</td>\n",
       "      <td>20201031190326</td>\n",
       "      <td>True</td>\n",
       "      <td>[{'data': 'Darkness', 'floor': 6.0, 'key': 'SM...</td>\n",
       "      <td>NONE</td>\n",
       "      <td>0</td>\n",
       "      <td>0.0</td>\n",
       "      <td>[AscendersBane, Defend_B+1, Defend_B+1, Defend...</td>\n",
       "      <td>[Nuclear Battery, Gremlin Horn, Dream Catcher,...</td>\n",
       "      <td>[56, 56]</td>\n",
       "      <td>[{'damage': 5.0, 'enemies': '2 Louse', 'floor'...</td>\n",
       "      <td>4177121344993452559</td>\n",
       "      <td>[{'floor': 1.0, 'key': 'LiquidBronze'}, {'floo...</td>\n",
       "      <td>False</td>\n",
       "      <td>[M, M, ?, M, M, R, E, M, T, M, M, E, ?, E, R, ...</td>\n",
       "      <td>DEFECT</td>\n",
       "      <td>[Membership Card, Happy Flower, The Bomb, Apot...</td>\n",
       "      <td>0</td>\n",
       "      <td>[20, 20, 20, 28, 28, 28, 37, 54]</td>\n",
       "      <td>[59, 57, 57, 60, 37, 37, 39, 45, 45, 51, 58, 6...</td>\n",
       "      <td>39</td>\n",
       "      <td>BOSS_RELIC</td>\n",
       "      <td>False</td>\n",
       "      <td>False</td>\n",
       "      <td>False</td>\n",
       "      <td>8</td>\n",
       "      <td>0.0</td>\n",
       "      <td>1604189006</td>\n",
       "      <td>[M, M, ?, M, M, R, E, M, T, M, ?, E, ?, E, R, ...</td>\n",
       "      <td>2020-07-30</td>\n",
       "      <td>2</td>\n",
       "      <td>True</td>\n",
       "      <td>[71, 71, 71, 71, 71, 71, 71, 71, 71, 71, 71, 7...</td>\n",
       "      <td>[{'not_picked': ['Go for the Eyes', 'Sweeping ...</td>\n",
       "      <td>201155</td>\n",
       "      <td>[{'floor': 7.0, 'key': 'Gremlin Horn'}, {'floo...</td>\n",
       "      <td>[{'damage_healed': 0.0, 'max_hp_gain': 0.0, 'm...</td>\n",
       "      <td>False</td>\n",
       "      <td>[{'not_picked': ['SacredBark', 'Runic Dome'], ...</td>\n",
       "      <td>[20, 37]</td>\n",
       "      <td>False</td>\n",
       "      <td>[1, 2, 5, 8, 14, 18, 24, 30, 33, 35, 38, 46, 55]</td>\n",
       "      <td>NaN</td>\n",
       "      <td>20</td>\n",
       "      <td>0.0</td>\n",
       "    </tr>\n",
       "    <tr>\n",
       "      <th>3</th>\n",
       "      <td>[219, 46, 46, 58, 73, 105, 105, 139, 212, 238,...</td>\n",
       "      <td>57</td>\n",
       "      <td>4658</td>\n",
       "      <td>[]</td>\n",
       "      <td>2689</td>\n",
       "      <td>72c238c9-a5f9-4cd7-94c3-e40d37e5d7d6</td>\n",
       "      <td>20201101020744</td>\n",
       "      <td>True</td>\n",
       "      <td>[{'floor': 7.0, 'key': 'REST'}, {'floor': 11.0...</td>\n",
       "      <td>NONE</td>\n",
       "      <td>0</td>\n",
       "      <td>0.0</td>\n",
       "      <td>[AscendersBane, Defend_G, Defend_G, Defend_G, ...</td>\n",
       "      <td>[Ring of the Snake, TwistedFunnel, Ginger, Reg...</td>\n",
       "      <td>[40, 40, 51, 56, 56]</td>\n",
       "      <td>[{'damage': 14.0, 'enemies': 'Small Slimes', '...</td>\n",
       "      <td>-6803155539044452702</td>\n",
       "      <td>[{'floor': 4.0, 'key': 'GamblersBrew'}, {'floo...</td>\n",
       "      <td>False</td>\n",
       "      <td>[M, $, ?, M, M, E, R, E, T, T, R, M, ?, M, R, ...</td>\n",
       "      <td>THE_SILENT</td>\n",
       "      <td>[TwistedFunnel, Paper Crane, Footwork, Centenn...</td>\n",
       "      <td>2</td>\n",
       "      <td>[2, 19, 19, 45, 54, 54]</td>\n",
       "      <td>[45, 45, 25, 23, 23, 16, 35, 15, 15, 15, 49, 3...</td>\n",
       "      <td>49</td>\n",
       "      <td>HUNDRED_GOLD</td>\n",
       "      <td>False</td>\n",
       "      <td>False</td>\n",
       "      <td>False</td>\n",
       "      <td>7</td>\n",
       "      <td>0.0</td>\n",
       "      <td>1604189264</td>\n",
       "      <td>[M, $, ?, M, M, E, R, E, T, ?, R, M, ?, M, R, ...</td>\n",
       "      <td>2020-07-30</td>\n",
       "      <td>0</td>\n",
       "      <td>True</td>\n",
       "      <td>[66, 66, 66, 66, 66, 66, 66, 66, 66, 66, 66, 6...</td>\n",
       "      <td>[{'not_picked': ['Backflip', 'Choke'], 'picked...</td>\n",
       "      <td>644026</td>\n",
       "      <td>[{'floor': 6.0, 'key': 'Ginger'}, {'floor': 8....</td>\n",
       "      <td>[{'damage_healed': 0.0, 'max_hp_gain': 0.0, 'm...</td>\n",
       "      <td>False</td>\n",
       "      <td>[{'not_picked': ['Tiny House', 'Velvet Choker'...</td>\n",
       "      <td>[]</td>\n",
       "      <td>False</td>\n",
       "      <td>[4, 5, 12, 14, 16, 18, 24, 28, 30, 31, 33, 35,...</td>\n",
       "      <td>NaN</td>\n",
       "      <td>20</td>\n",
       "      <td>0.0</td>\n",
       "    </tr>\n",
       "    <tr>\n",
       "      <th>4</th>\n",
       "      <td>[119, 119, 129, 129, 142, 172, 172, 189, 189, ...</td>\n",
       "      <td>57</td>\n",
       "      <td>1896</td>\n",
       "      <td>[Strike_G, Defend_G, Strike_G, Defend_G, Defen...</td>\n",
       "      <td>2985</td>\n",
       "      <td>ec46ce7d-4ea4-48af-b28c-1e1c4e5a709a</td>\n",
       "      <td>20201101081041</td>\n",
       "      <td>True</td>\n",
       "      <td>[{'floor': 7.0, 'key': 'REST'}, {'data': 'Tact...</td>\n",
       "      <td>NONE</td>\n",
       "      <td>2304717551841</td>\n",
       "      <td>0.0</td>\n",
       "      <td>[AscendersBane, Survivor, Neutralize+1, Tactic...</td>\n",
       "      <td>[Ring of the Snake, NeowsBlessing, Calipers, M...</td>\n",
       "      <td>[51, 51, 55, 56, 56, 56]</td>\n",
       "      <td>[{'damage': 0.0, 'enemies': '2 Louse', 'floor'...</td>\n",
       "      <td>204080343309263199</td>\n",
       "      <td>[{'floor': 3.0, 'key': 'LiquidBronze'}, {'floo...</td>\n",
       "      <td>False</td>\n",
       "      <td>[M, ?, M, ?, M, E, R, M, T, M, $, ?, R, M, R, ...</td>\n",
       "      <td>THE_SILENT</td>\n",
       "      <td>[Well Laid Plans, Membership Card, LiquidMemor...</td>\n",
       "      <td>2</td>\n",
       "      <td>[24, 48, 48, 54, 54, 54]</td>\n",
       "      <td>[59, 59, 59, 59, 59, 2, 21, 18, 18, 27, 27, 16...</td>\n",
       "      <td>48</td>\n",
       "      <td>THREE_ENEMY_KILL</td>\n",
       "      <td>False</td>\n",
       "      <td>False</td>\n",
       "      <td>False</td>\n",
       "      <td>4</td>\n",
       "      <td>0.0</td>\n",
       "      <td>1604189441</td>\n",
       "      <td>[M, ?, M, ?, ?, E, R, M, T, M, $, ?, R, M, R, ...</td>\n",
       "      <td>2020-07-30</td>\n",
       "      <td>5</td>\n",
       "      <td>True</td>\n",
       "      <td>[66, 66, 66, 66, 66, 66, 66, 66, 66, 66, 66, 6...</td>\n",
       "      <td>[{'not_picked': ['Acrobatics', 'Bane'], 'picke...</td>\n",
       "      <td>2603080</td>\n",
       "      <td>[{'floor': 6.0, 'key': 'Calipers'}, {'floor': ...</td>\n",
       "      <td>[{'damage_healed': 0.0, 'max_hp_gain': 0.0, 'm...</td>\n",
       "      <td>False</td>\n",
       "      <td>[{'not_picked': ['Tiny House', 'Fusion Hammer'...</td>\n",
       "      <td>[11, 24, 28, 48, 54]</td>\n",
       "      <td>False</td>\n",
       "      <td>[3, 8, 10, 14, 30, 31, 33, 38, 39, 42, 45]</td>\n",
       "      <td>NaN</td>\n",
       "      <td>20</td>\n",
       "      <td>0.0</td>\n",
       "    </tr>\n",
       "  </tbody>\n",
       "</table>\n",
       "</div>"
      ],
      "text/plain": [
       "                                      gold_per_floor  floor_reached  playtime  \\\n",
       "0  [116, 128, 128, 145, 164, 164, 199, 36, 60, 77...             57      3592   \n",
       "1  [110, 57, 76, 88, 48, 48, 73, 22, 22, 22, 34, ...             57      2499   \n",
       "2  [119, 129, 129, 149, 161, 161, 190, 210, 262, ...             57      6662   \n",
       "3  [219, 46, 46, 58, 73, 105, 105, 139, 212, 238,...             57      4658   \n",
       "4  [119, 119, 129, 129, 142, 172, 172, 189, 189, ...             57      1896   \n",
       "\n",
       "                                        items_purged  score  \\\n",
       "0                                 [Strike_B, Fusion]   3387   \n",
       "1                           [Strike_B+1, Strike_B+1]   2856   \n",
       "2                             [Strike_B, Strike_B+1]   2702   \n",
       "3                                                 []   2689   \n",
       "4  [Strike_G, Defend_G, Strike_G, Defend_G, Defen...   2985   \n",
       "\n",
       "                                play_id      local_time  is_ascension_mode  \\\n",
       "0  f0e5a910-179f-4b2c-8faa-36c4b18dc596  20201101075911               True   \n",
       "1  e7965be2-e720-4f70-a41f-1e102caae779  20201031190308               True   \n",
       "2  bc717009-43e1-4177-98b9-dd41fe283145  20201031190326               True   \n",
       "3  72c238c9-a5f9-4cd7-94c3-e40d37e5d7d6  20201101020744               True   \n",
       "4  ec46ce7d-4ea4-48af-b28c-1e1c4e5a709a  20201101081041               True   \n",
       "\n",
       "                                    campfire_choices neow_cost  \\\n",
       "0  [{'data': 'Doom and Gloom', 'floor': 6.0, 'key...      NONE   \n",
       "1  [{'data': 'Sweeping Beam', 'floor': 6.0, 'key'...      NONE   \n",
       "2  [{'data': 'Darkness', 'floor': 6.0, 'key': 'SM...      NONE   \n",
       "3  [{'floor': 7.0, 'key': 'REST'}, {'floor': 11.0...      NONE   \n",
       "4  [{'floor': 7.0, 'key': 'REST'}, {'data': 'Tact...      NONE   \n",
       "\n",
       "   seed_source_timestamp  circlet_count  \\\n",
       "0                      0            0.0   \n",
       "1                      0            0.0   \n",
       "2                      0            0.0   \n",
       "3                      0            0.0   \n",
       "4          2304717551841            0.0   \n",
       "\n",
       "                                         master_deck  \\\n",
       "0  [AscendersBane, Defend_B, Defend_B, Defend_B, ...   \n",
       "1  [AscendersBane, Strike_B+1, Defend_B+1, Defend...   \n",
       "2  [AscendersBane, Defend_B+1, Defend_B+1, Defend...   \n",
       "3  [AscendersBane, Defend_G, Defend_G, Defend_G, ...   \n",
       "4  [AscendersBane, Survivor, Neutralize+1, Tactic...   \n",
       "\n",
       "                                              relics  \\\n",
       "0  [Snecko Eye, Boot, MealTicket, Dream Catcher, ...   \n",
       "1  [Calling Bell, Bag of Preparation, Cables, Win...   \n",
       "2  [Nuclear Battery, Gremlin Horn, Dream Catcher,...   \n",
       "3  [Ring of the Snake, TwistedFunnel, Ginger, Reg...   \n",
       "4  [Ring of the Snake, NeowsBlessing, Calipers, M...   \n",
       "\n",
       "                potions_floor_usage  \\\n",
       "0                                []   \n",
       "1  [56, 56, 56, 56, 56, 56, 56, 56]   \n",
       "2                          [56, 56]   \n",
       "3              [40, 40, 51, 56, 56]   \n",
       "4          [51, 51, 55, 56, 56, 56]   \n",
       "\n",
       "                                        damage_taken           seed_played  \\\n",
       "0  [{'damage': 8.0, 'enemies': '2 Louse', 'floor'...   8817479027442936069   \n",
       "1  [{'damage': 4.0, 'enemies': 'Jaw Worm', 'floor...  -7915356058747897097   \n",
       "2  [{'damage': 5.0, 'enemies': '2 Louse', 'floor'...   4177121344993452559   \n",
       "3  [{'damage': 14.0, 'enemies': 'Small Slimes', '...  -6803155539044452702   \n",
       "4  [{'damage': 0.0, 'enemies': '2 Louse', 'floor'...    204080343309263199   \n",
       "\n",
       "                                    potions_obtained  is_trial  \\\n",
       "0  [{'floor': 1.0, 'key': 'SneckoOil'}, {'floor':...     False   \n",
       "1  [{'floor': 1.0, 'key': 'DuplicationPotion'}, {...     False   \n",
       "2  [{'floor': 1.0, 'key': 'LiquidBronze'}, {'floo...     False   \n",
       "3  [{'floor': 4.0, 'key': 'GamblersBrew'}, {'floo...     False   \n",
       "4  [{'floor': 3.0, 'key': 'LiquidBronze'}, {'floo...     False   \n",
       "\n",
       "                                      path_per_floor character_chosen  \\\n",
       "0  [M, M, ?, M, M, R, E, $, T, M, ?, R, E, M, R, ...           DEFECT   \n",
       "1  [M, ?, M, M, M, R, E, $, T, ?, M, E, E, M, R, ...           DEFECT   \n",
       "2  [M, M, ?, M, M, R, E, M, T, M, M, E, ?, E, R, ...           DEFECT   \n",
       "3  [M, $, ?, M, M, E, R, E, T, T, R, M, ?, M, R, ...       THE_SILENT   \n",
       "4  [M, ?, M, ?, M, E, R, M, T, M, $, ?, R, M, R, ...       THE_SILENT   \n",
       "\n",
       "                                     items_purchased  campfire_rested  \\\n",
       "0  [Loop, ClockworkSouvenir, Self Repair, Meteor ...                1   \n",
       "1  [Coolheaded, OrangePellets, PreservedInsect, R...                4   \n",
       "2  [Membership Card, Happy Flower, The Bomb, Apot...                0   \n",
       "3  [TwistedFunnel, Paper Crane, Footwork, Centenn...                2   \n",
       "4  [Well Laid Plans, Membership Card, LiquidMemor...                2   \n",
       "\n",
       "                          item_purchase_floors  \\\n",
       "0                      [8, 22, 22, 30, 54, 54]   \n",
       "1  [8, 37, 37, 48, 48, 48, 48, 48, 48, 48, 54]   \n",
       "2             [20, 20, 20, 28, 28, 28, 37, 54]   \n",
       "3                      [2, 19, 19, 45, 54, 54]   \n",
       "4                     [24, 48, 48, 54, 54, 54]   \n",
       "\n",
       "                                current_hp_per_floor  gold        neow_bonus  \\\n",
       "0  [56, 55, 55, 55, 50, 50, 25, 25, 25, 11, 11, 3...   112        BOSS_RELIC   \n",
       "1  [60, 60, 60, 57, 35, 35, 23, 23, 23, 71, 69, 5...    57        BOSS_RELIC   \n",
       "2  [59, 57, 57, 60, 37, 37, 39, 45, 45, 51, 58, 6...    39        BOSS_RELIC   \n",
       "3  [45, 45, 25, 23, 23, 16, 35, 15, 15, 15, 49, 3...    49      HUNDRED_GOLD   \n",
       "4  [59, 59, 59, 59, 59, 2, 21, 18, 18, 27, 27, 16...    48  THREE_ENEMY_KILL   \n",
       "\n",
       "   is_prod  is_daily  chose_seed  campfire_upgraded  win_rate   timestamp  \\\n",
       "0    False     False       False                  6       0.0  1604188751   \n",
       "1    False     False       False                  4       0.0  1604188988   \n",
       "2    False     False       False                  8       0.0  1604189006   \n",
       "3    False     False       False                  7       0.0  1604189264   \n",
       "4    False     False       False                  4       0.0  1604189441   \n",
       "\n",
       "                                          path_taken build_version  \\\n",
       "0  [M, M, ?, ?, M, R, E, $, T, M, ?, R, E, M, R, ...    2020-07-30   \n",
       "1  [M, ?, M, M, ?, R, E, ?, T, ?, ?, E, E, ?, R, ...    2020-07-30   \n",
       "2  [M, M, ?, M, M, R, E, M, T, M, ?, E, ?, E, R, ...    2020-07-30   \n",
       "3  [M, $, ?, M, M, E, R, E, T, ?, R, M, ?, M, R, ...    2020-07-30   \n",
       "4  [M, ?, M, ?, ?, E, R, M, T, M, $, ?, R, M, R, ...    2020-07-30   \n",
       "\n",
       "   purchased_purges  victory  \\\n",
       "0                 2     True   \n",
       "1                 2     True   \n",
       "2                 2     True   \n",
       "3                 0     True   \n",
       "4                 5     True   \n",
       "\n",
       "                                    max_hp_per_floor  \\\n",
       "0  [71, 71, 71, 71, 71, 71, 71, 71, 71, 71, 71, 7...   \n",
       "1  [71, 71, 71, 71, 71, 71, 71, 71, 71, 71, 73, 7...   \n",
       "2  [71, 71, 71, 71, 71, 71, 71, 71, 71, 71, 71, 7...   \n",
       "3  [66, 66, 66, 66, 66, 66, 66, 66, 66, 66, 66, 6...   \n",
       "4  [66, 66, 66, 66, 66, 66, 66, 66, 66, 66, 66, 6...   \n",
       "\n",
       "                                        card_choices  player_experience  \\\n",
       "0  [{'not_picked': ['Steam Power', 'Tempest', 'Go...            1711065   \n",
       "1  [{'not_picked': ['Leap', 'Redo'], 'picked': 'S...             583140   \n",
       "2  [{'not_picked': ['Go for the Eyes', 'Sweeping ...             201155   \n",
       "3  [{'not_picked': ['Backflip', 'Choke'], 'picked...             644026   \n",
       "4  [{'not_picked': ['Acrobatics', 'Bane'], 'picke...            2603080   \n",
       "\n",
       "                                     relics_obtained  \\\n",
       "0  [{'floor': 7.0, 'key': 'Boot'}, {'floor': 9.0,...   \n",
       "1  [{'floor': 0.0, 'key': 'Bag of Preparation'}, ...   \n",
       "2  [{'floor': 7.0, 'key': 'Gremlin Horn'}, {'floo...   \n",
       "3  [{'floor': 6.0, 'key': 'Ginger'}, {'floor': 8....   \n",
       "4  [{'floor': 6.0, 'key': 'Calipers'}, {'floor': ...   \n",
       "\n",
       "                                       event_choices is_beta  \\\n",
       "0  [{'damage_healed': 0.0, 'max_hp_gain': 0.0, 'm...   False   \n",
       "1  [{'damage_healed': 0.0, 'max_hp_gain': 0.0, 'm...    True   \n",
       "2  [{'damage_healed': 0.0, 'max_hp_gain': 0.0, 'm...   False   \n",
       "3  [{'damage_healed': 0.0, 'max_hp_gain': 0.0, 'm...   False   \n",
       "4  [{'damage_healed': 0.0, 'max_hp_gain': 0.0, 'm...   False   \n",
       "\n",
       "                                         boss_relics   items_purged_floors  \\\n",
       "0  [{'not_picked': ['Busted Crown', 'Astrolabe'],...               [8, 54]   \n",
       "1  [{'not_picked': ['Sozu', 'SlaversCollar'], 'pi...              [37, 48]   \n",
       "2  [{'not_picked': ['SacredBark', 'Runic Dome'], ...              [20, 37]   \n",
       "3  [{'not_picked': ['Tiny House', 'Velvet Choker'...                    []   \n",
       "4  [{'not_picked': ['Tiny House', 'Fusion Hammer'...  [11, 24, 28, 48, 54]   \n",
       "\n",
       "   is_endless                              potions_floor_spawned killed_by  \\\n",
       "0       False          [1, 5, 7, 16, 18, 20, 29, 35, 42, 48, 55]       NaN   \n",
       "1       False         [1, 3, 11, 18, 21, 24, 27, 33, 35, 36, 44]       NaN   \n",
       "2       False   [1, 2, 5, 8, 14, 18, 24, 30, 33, 35, 38, 46, 55]       NaN   \n",
       "3       False  [4, 5, 12, 14, 16, 18, 24, 28, 30, 31, 33, 35,...       NaN   \n",
       "4       False         [3, 8, 10, 14, 30, 31, 33, 38, 39, 42, 45]       NaN   \n",
       "\n",
       "   ascension_level  special_seed  \n",
       "0               20           0.0  \n",
       "1               20           0.0  \n",
       "2               20           0.0  \n",
       "3               20           0.0  \n",
       "4               20           0.0  "
      ]
     },
     "execution_count": 6,
     "metadata": {},
     "output_type": "execute_result"
    }
   ],
   "source": [
    "prep_data.head()"
   ]
  },
  {
   "cell_type": "code",
   "execution_count": 7,
   "metadata": {
    "ExecuteTime": {
     "end_time": "2021-11-06T08:46:40.380330Z",
     "start_time": "2021-11-06T08:46:40.372560Z"
    }
   },
   "outputs": [
    {
     "data": {
      "text/plain": [
       "Index(['gold_per_floor', 'floor_reached', 'playtime', 'items_purged', 'score',\n",
       "       'play_id', 'local_time', 'is_ascension_mode', 'campfire_choices',\n",
       "       'neow_cost', 'seed_source_timestamp', 'circlet_count', 'master_deck',\n",
       "       'relics', 'potions_floor_usage', 'damage_taken', 'seed_played',\n",
       "       'potions_obtained', 'is_trial', 'path_per_floor', 'character_chosen',\n",
       "       'items_purchased', 'campfire_rested', 'item_purchase_floors',\n",
       "       'current_hp_per_floor', 'gold', 'neow_bonus', 'is_prod', 'is_daily',\n",
       "       'chose_seed', 'campfire_upgraded', 'win_rate', 'timestamp',\n",
       "       'path_taken', 'build_version', 'purchased_purges', 'victory',\n",
       "       'max_hp_per_floor', 'card_choices', 'player_experience',\n",
       "       'relics_obtained', 'event_choices', 'is_beta', 'boss_relics',\n",
       "       'items_purged_floors', 'is_endless', 'potions_floor_spawned',\n",
       "       'killed_by', 'ascension_level', 'special_seed'],\n",
       "      dtype='object')"
      ]
     },
     "execution_count": 7,
     "metadata": {},
     "output_type": "execute_result"
    }
   ],
   "source": [
    "prep_data.columns"
   ]
  },
  {
   "cell_type": "markdown",
   "metadata": {},
   "source": [
    "# See Results"
   ]
  },
  {
   "cell_type": "code",
   "execution_count": 8,
   "metadata": {
    "ExecuteTime": {
     "end_time": "2021-11-06T08:46:41.264465Z",
     "start_time": "2021-11-06T08:46:41.258453Z"
    },
    "scrolled": true
   },
   "outputs": [
    {
     "name": "stdout",
     "output_type": "stream",
     "text": [
      "7155\n",
      "total runs: 2075105\n",
      "total A20 runs: 238579\n",
      "total A20 runs: 7155\n"
     ]
    }
   ],
   "source": [
    "print(prep_data.shape[0]) # winning a20 runs\n",
    "print(\"total runs: {}\".format(data_cnt))\n",
    "print(\"total A20 runs: {}\".format(a20_cnt))\n",
    "print(\"total A20 runs: {}\".format(a20_win))"
   ]
  },
  {
   "cell_type": "code",
   "execution_count": 9,
   "metadata": {
    "ExecuteTime": {
     "end_time": "2021-11-06T08:46:42.095436Z",
     "start_time": "2021-11-06T08:46:42.090422Z"
    }
   },
   "outputs": [
    {
     "name": "stdout",
     "output_type": "stream",
     "text": [
      "total A0 runs: 644106\n",
      "total A0 runs: 9084\n"
     ]
    }
   ],
   "source": [
    "print(\"total A0 runs: {}\".format(a0_cnt))\n",
    "print(\"total A0 runs: {}\".format(a0_win))"
   ]
  },
  {
   "cell_type": "markdown",
   "metadata": {},
   "source": [
    "**Non-Ascension Winning Percentage**\n",
    "- 1.41%"
   ]
  },
  {
   "cell_type": "code",
   "execution_count": 10,
   "metadata": {
    "ExecuteTime": {
     "end_time": "2021-11-06T08:46:43.032783Z",
     "start_time": "2021-11-06T08:46:43.026798Z"
    }
   },
   "outputs": [
    {
     "data": {
      "text/plain": [
       "1.4103268716639807"
      ]
     },
     "execution_count": 10,
     "metadata": {},
     "output_type": "execute_result"
    }
   ],
   "source": [
    "(a0_win/a0_cnt)*100"
   ]
  },
  {
   "cell_type": "markdown",
   "metadata": {},
   "source": [
    "**Ascension 20 Winning Percentage**\n",
    "- 3.00% "
   ]
  },
  {
   "cell_type": "code",
   "execution_count": 11,
   "metadata": {
    "ExecuteTime": {
     "end_time": "2021-11-06T08:46:43.884849Z",
     "start_time": "2021-11-06T08:46:43.877867Z"
    }
   },
   "outputs": [
    {
     "data": {
      "text/plain": [
       "2.9990066183528308"
      ]
     },
     "execution_count": 11,
     "metadata": {},
     "output_type": "execute_result"
    }
   ],
   "source": [
    "(a20_win/a20_cnt)*100"
   ]
  },
  {
   "cell_type": "markdown",
   "metadata": {},
   "source": [
    "**3.00% Ascension 20 runs are Victorious (November 2020)** \n",
    "\n",
    "learn from elite players"
   ]
  },
  {
   "cell_type": "code",
   "execution_count": 12,
   "metadata": {
    "ExecuteTime": {
     "end_time": "2021-11-06T08:46:44.867901Z",
     "start_time": "2021-11-06T08:46:44.860434Z"
    }
   },
   "outputs": [
    {
     "data": {
      "text/plain": [
       "{'THE_SILENT': 67159, 'DEFECT': 60445, 'IRONCLAD': 85279, 'WATCHER': 25696}"
      ]
     },
     "execution_count": 12,
     "metadata": {},
     "output_type": "execute_result"
    }
   ],
   "source": [
    "a20_cnt_char"
   ]
  },
  {
   "cell_type": "code",
   "execution_count": 13,
   "metadata": {
    "ExecuteTime": {
     "end_time": "2021-11-06T08:46:45.644506Z",
     "start_time": "2021-11-06T08:46:45.639228Z"
    },
    "scrolled": true
   },
   "outputs": [
    {
     "data": {
      "text/plain": [
       "{'DEFECT': 1204, 'THE_SILENT': 1591, 'IRONCLAD': 2648, 'WATCHER': 1712}"
      ]
     },
     "execution_count": 13,
     "metadata": {},
     "output_type": "execute_result"
    }
   ],
   "source": [
    "a20_win_char"
   ]
  },
  {
   "cell_type": "markdown",
   "metadata": {},
   "source": [
    "**Save Winning Runst to json and csv file**"
   ]
  },
  {
   "cell_type": "code",
   "execution_count": 14,
   "metadata": {
    "ExecuteTime": {
     "end_time": "2021-11-06T08:46:48.803557Z",
     "start_time": "2021-11-06T08:46:46.381525Z"
    }
   },
   "outputs": [],
   "source": [
    "prep_data.to_json(\"A20runs.json\")"
   ]
  },
  {
   "cell_type": "code",
   "execution_count": 15,
   "metadata": {
    "ExecuteTime": {
     "end_time": "2021-11-06T08:46:55.210042Z",
     "start_time": "2021-11-06T08:46:49.609879Z"
    }
   },
   "outputs": [],
   "source": [
    "prep_data.to_csv(\"A20runs.csv\", index = False)"
   ]
  },
  {
   "cell_type": "markdown",
   "metadata": {},
   "source": [
    "# Plot"
   ]
  },
  {
   "cell_type": "markdown",
   "metadata": {},
   "source": [
    "## Plot Number of Winning Runs"
   ]
  },
  {
   "cell_type": "code",
   "execution_count": 16,
   "metadata": {
    "ExecuteTime": {
     "end_time": "2021-11-06T08:46:56.178757Z",
     "start_time": "2021-11-06T08:46:56.162734Z"
    }
   },
   "outputs": [
    {
     "data": {
      "text/plain": [
       "character_chosen\n",
       "DEFECT        1204\n",
       "IRONCLAD      2648\n",
       "THE_SILENT    1591\n",
       "WATCHER       1712\n",
       "dtype: int64"
      ]
     },
     "execution_count": 16,
     "metadata": {},
     "output_type": "execute_result"
    }
   ],
   "source": [
    "char_cnt = prep_data.groupby('character_chosen').size()\n",
    "char_cnt"
   ]
  },
  {
   "cell_type": "code",
   "execution_count": 17,
   "metadata": {
    "ExecuteTime": {
     "end_time": "2021-11-06T08:46:57.061919Z",
     "start_time": "2021-11-06T08:46:57.055374Z"
    }
   },
   "outputs": [],
   "source": [
    "char_cnt =char_cnt.reindex([\"IRONCLAD\", \"THE_SILENT\", \"DEFECT\", \"WATCHER\"])"
   ]
  },
  {
   "cell_type": "code",
   "execution_count": 18,
   "metadata": {
    "ExecuteTime": {
     "end_time": "2021-11-06T08:46:58.414817Z",
     "start_time": "2021-11-06T08:46:58.016668Z"
    }
   },
   "outputs": [
    {
     "data": {
      "image/png": "[encoded data removed]",
      "text/plain": [
       "<Figure size 640x480 with 1 Axes>"
      ]
     },
     "metadata": {},
     "output_type": "display_data"
    }
   ],
   "source": [
    "my_colors = ['tab:red','tab:green','tab:blue','tab:purple']  #red, green, blue, black, etc.\n",
    "\n",
    "plt.style.use('default')\n",
    "\n",
    "fig, ax = plt.subplots()\n",
    "ax.bar(char_cnt.index, char_cnt, color = my_colors)\n",
    "for i in range(len(char_cnt)):\n",
    "    ax.annotate(str(char_cnt[i]), xy=(char_cnt.index[i], char_cnt[i]), ha='center', va='bottom')\n",
    "ax.set_ylim([0,3000])\n",
    "ax.set_ylabel(\"Count\")\n",
    "ax.set_title(\"Ascension 20 Victorious Runs\")\n",
    "\n",
    "plt.tight_layout()\n",
    "\n",
    "plt.show()"
   ]
  },
  {
   "cell_type": "code",
   "execution_count": 19,
   "metadata": {
    "ExecuteTime": {
     "end_time": "2021-11-06T08:46:59.509646Z",
     "start_time": "2021-11-06T08:46:59.363626Z"
    }
   },
   "outputs": [],
   "source": [
    "fig.savefig(\"img/A20runs.png\")"
   ]
  },
  {
   "cell_type": "code",
   "execution_count": 20,
   "metadata": {
    "ExecuteTime": {
     "end_time": "2021-11-06T08:47:00.785477Z",
     "start_time": "2021-11-06T08:47:00.492924Z"
    }
   },
   "outputs": [
    {
     "data": {
      "image/png": "[encoded data removed]",
      "text/plain": [
       "<Figure size 640x480 with 1 Axes>"
      ]
     },
     "metadata": {},
     "output_type": "display_data"
    }
   ],
   "source": [
    "my_colors = ['tab:red','tab:green','tab:blue','tab:purple']  #red, green, blue, black, etc.\n",
    "\n",
    "plt.style.use('dark_background')\n",
    "\n",
    "fig, ax = plt.subplots()\n",
    "ax.bar(char_cnt.index, char_cnt, color = my_colors, edgecolor = 'grey')\n",
    "for i in range(len(char_cnt)):\n",
    "    ax.annotate(str(char_cnt[i]), xy=(char_cnt.index[i], char_cnt[i]), ha='center', va='bottom')\n",
    "ax.set_ylim([0,3000])\n",
    "ax.set_ylabel(\"Count\")\n",
    "ax.set_title(\"Ascension 20 Victorious Runs\")\n",
    "\n",
    "plt.tight_layout()\n",
    "\n",
    "plt.show()"
   ]
  },
  {
   "cell_type": "code",
   "execution_count": 21,
   "metadata": {
    "ExecuteTime": {
     "end_time": "2021-11-06T08:47:01.714892Z",
     "start_time": "2021-11-06T08:47:01.567307Z"
    }
   },
   "outputs": [],
   "source": [
    "fig.savefig(\"img/A20runs_dark.png\")"
   ]
  },
  {
   "cell_type": "markdown",
   "metadata": {},
   "source": [
    "## Plot Ascension 20 Winning Percentage"
   ]
  },
  {
   "cell_type": "code",
   "execution_count": 22,
   "metadata": {
    "ExecuteTime": {
     "end_time": "2021-11-06T08:47:02.690724Z",
     "start_time": "2021-11-06T08:47:02.684542Z"
    }
   },
   "outputs": [
    {
     "data": {
      "text/plain": [
       "{'THE_SILENT': 67159, 'DEFECT': 60445, 'IRONCLAD': 85279, 'WATCHER': 25696}"
      ]
     },
     "execution_count": 22,
     "metadata": {},
     "output_type": "execute_result"
    }
   ],
   "source": [
    "a20_cnt_char"
   ]
  },
  {
   "cell_type": "code",
   "execution_count": 23,
   "metadata": {
    "ExecuteTime": {
     "end_time": "2021-11-06T08:47:03.701752Z",
     "start_time": "2021-11-06T08:47:03.690442Z"
    }
   },
   "outputs": [
    {
     "data": {
      "text/plain": [
       "{'DEFECT': 1204, 'THE_SILENT': 1591, 'IRONCLAD': 2648, 'WATCHER': 1712}"
      ]
     },
     "execution_count": 23,
     "metadata": {},
     "output_type": "execute_result"
    }
   ],
   "source": [
    "a20_win_char"
   ]
  },
  {
   "cell_type": "code",
   "execution_count": 24,
   "metadata": {
    "ExecuteTime": {
     "end_time": "2021-11-06T08:47:04.667691Z",
     "start_time": "2021-11-06T08:47:04.663392Z"
    }
   },
   "outputs": [],
   "source": [
    "a20_cnt_char_pd = pd.Series(a20_cnt_char)\n",
    "a20_win_char_pd = pd.Series(a20_win_char)"
   ]
  },
  {
   "cell_type": "code",
   "execution_count": 25,
   "metadata": {
    "ExecuteTime": {
     "end_time": "2021-11-06T08:47:05.543579Z",
     "start_time": "2021-11-06T08:47:05.533608Z"
    }
   },
   "outputs": [],
   "source": [
    "#a20_runs_win = pd.concat([a20_cnt_char_pd, a20_win_char_pd], axis=1)\n",
    "a20_runs_win_rate = (a20_win_char_pd/a20_cnt_char_pd)*100 "
   ]
  },
  {
   "cell_type": "code",
   "execution_count": 26,
   "metadata": {
    "ExecuteTime": {
     "end_time": "2021-11-06T08:47:06.361756Z",
     "start_time": "2021-11-06T08:47:06.355717Z"
    }
   },
   "outputs": [],
   "source": [
    "a20_runs_win_rate = a20_runs_win_rate.reindex([\"IRONCLAD\", \"THE_SILENT\", \"DEFECT\", \"WATCHER\"])"
   ]
  },
  {
   "cell_type": "code",
   "execution_count": 27,
   "metadata": {
    "ExecuteTime": {
     "end_time": "2021-11-06T08:47:07.372442Z",
     "start_time": "2021-11-06T08:47:07.368432Z"
    }
   },
   "outputs": [],
   "source": [
    "a20_runs_win_rate = a20_runs_win_rate.round(2)"
   ]
  },
  {
   "cell_type": "code",
   "execution_count": 28,
   "metadata": {
    "ExecuteTime": {
     "end_time": "2021-11-06T08:47:08.596799Z",
     "start_time": "2021-11-06T08:47:08.261297Z"
    }
   },
   "outputs": [
    {
     "data": {
      "image/png": "[encoded data removed]",
      "text/plain": [
       "<Figure size 640x480 with 1 Axes>"
      ]
     },
     "metadata": {},
     "output_type": "display_data"
    }
   ],
   "source": [
    "my_colors = ['tab:red','tab:green','tab:blue','tab:purple']  #red, green, blue, black, etc.\n",
    "\n",
    "plt.style.use('default')\n",
    "\n",
    "fig, ax = plt.subplots()\n",
    "ax.bar(a20_runs_win_rate.index, a20_runs_win_rate, color = my_colors)\n",
    "for i in range(len(a20_runs_win_rate)):\n",
    "    ax.annotate(str(a20_runs_win_rate[i] ) + ' %', xy=(a20_runs_win_rate.index[i], a20_runs_win_rate[i]), ha='center', va='bottom')\n",
    "ax.set_ylim([0,10])\n",
    "ax.set_ylabel(\"Victory Percentage (%)\")\n",
    "ax.set_title(\"Ascension 20 Winning Percentage\")\n",
    "\n",
    "plt.tight_layout()\n",
    "\n",
    "plt.show()"
   ]
  },
  {
   "cell_type": "code",
   "execution_count": 29,
   "metadata": {
    "ExecuteTime": {
     "end_time": "2021-11-06T08:47:09.559152Z",
     "start_time": "2021-11-06T08:47:09.454508Z"
    }
   },
   "outputs": [],
   "source": [
    "fig.savefig(\"img/A20win_rate.png\")"
   ]
  },
  {
   "cell_type": "markdown",
   "metadata": {},
   "source": [
    "## Non- Ascension Run Winning Percentage"
   ]
  },
  {
   "cell_type": "code",
   "execution_count": 30,
   "metadata": {
    "ExecuteTime": {
     "end_time": "2021-11-06T08:47:10.494495Z",
     "start_time": "2021-11-06T08:47:10.488507Z"
    }
   },
   "outputs": [],
   "source": [
    "a0_cnt_char_pd = pd.Series(a0_cnt_char)\n",
    "a0_win_char_pd = pd.Series(a0_win_char)\n",
    "a0_runs_win_rate = (a0_win_char_pd/a0_cnt_char_pd)*100 "
   ]
  },
  {
   "cell_type": "code",
   "execution_count": 31,
   "metadata": {
    "ExecuteTime": {
     "end_time": "2021-11-06T08:47:11.303694Z",
     "start_time": "2021-11-06T08:47:11.298735Z"
    }
   },
   "outputs": [],
   "source": [
    "a0_runs_win_rate = a0_runs_win_rate.reindex([\"IRONCLAD\", \"THE_SILENT\", \"DEFECT\", \"WATCHER\"])"
   ]
  },
  {
   "cell_type": "code",
   "execution_count": 32,
   "metadata": {
    "ExecuteTime": {
     "end_time": "2021-11-06T08:47:12.104469Z",
     "start_time": "2021-11-06T08:47:12.100480Z"
    }
   },
   "outputs": [],
   "source": [
    "a0_runs_win_rate = a0_runs_win_rate.round(2)"
   ]
  },
  {
   "cell_type": "code",
   "execution_count": 33,
   "metadata": {
    "ExecuteTime": {
     "end_time": "2021-11-06T08:47:13.164861Z",
     "start_time": "2021-11-06T08:47:12.904024Z"
    }
   },
   "outputs": [
    {
     "data": {
      "image/png": "[encoded data removed]",
      "text/plain": [
       "<Figure size 640x480 with 1 Axes>"
      ]
     },
     "metadata": {},
     "output_type": "display_data"
    }
   ],
   "source": [
    "my_colors = ['tab:red','seagreen','tab:blue','tab:purple']  #red, green, blue, black, etc.\n",
    "\n",
    "plt.style.use('default')\n",
    "\n",
    "fig, ax = plt.subplots()\n",
    "ax.bar(a0_runs_win_rate.index, a0_runs_win_rate, color = my_colors)\n",
    "for i in range(len(a0_runs_win_rate)):\n",
    "    ax.annotate(str(a0_runs_win_rate[i] ) + ' %', xy=(a0_runs_win_rate.index[i], a0_runs_win_rate[i]), ha='center', va='bottom')\n",
    "ax.set_ylim([0,5])\n",
    "ax.set_ylabel(\"Win Percentage (%)\")\n",
    "ax.set_title(\"Non-Ascension Winning Percentage\")\n",
    "\n",
    "plt.tight_layout()\n",
    "\n",
    "plt.show()"
   ]
  },
  {
   "cell_type": "code",
   "execution_count": 34,
   "metadata": {
    "ExecuteTime": {
     "end_time": "2021-11-06T08:47:13.997986Z",
     "start_time": "2021-11-06T08:47:13.885683Z"
    }
   },
   "outputs": [],
   "source": [
    "fig.savefig(\"img/A0win_rate.png\")"
   ]
  },
  {
   "cell_type": "code",
   "execution_count": null,
   "metadata": {},
   "outputs": [],
   "source": []
  }
 ],
 "metadata": {
  "kernelspec": {
   "display_name": "Python 3",
   "language": "python",
   "name": "python3"
  },
  "language_info": {
   "codemirror_mode": {
    "name": "ipython",
    "version": 3
   },
   "file_extension": ".py",
   "mimetype": "text/x-python",
   "name": "python",
   "nbconvert_exporter": "python",
   "pygments_lexer": "ipython3",
   "version": "3.8.5"
  },
  "toc": {
   "base_numbering": 1,
   "nav_menu": {},
   "number_sections": true,
   "sideBar": true,
   "skip_h1_title": false,
   "title_cell": "Table of Contents",
   "title_sidebar": "Contents",
   "toc_cell": false,
   "toc_position": {
    "height": "calc(100% - 180px)",
    "left": "10px",
    "top": "150px",
    "width": "165px"
   },
   "toc_section_display": true,
   "toc_window_display": true
  },
  "varInspector": {
   "cols": {
    "lenName": 16,
    "lenType": 16,
    "lenVar": 40
   },
   "kernels_config": {
    "python": {
     "delete_cmd_postfix": "",
     "delete_cmd_prefix": "del ",
     "library": "var_list.py",
     "varRefreshCmd": "print(var_dic_list())"
    },
    "r": {
     "delete_cmd_postfix": ") ",
     "delete_cmd_prefix": "rm(",
     "library": "var_list.r",
     "varRefreshCmd": "cat(var_dic_list()) "
    }
   },
   "types_to_exclude": [
    "module",
    "function",
    "builtin_function_or_method",
    "instance",
    "_Feature"
   ],
   "window_display": false
  }
 },
 "nbformat": 4,
 "nbformat_minor": 2
}
